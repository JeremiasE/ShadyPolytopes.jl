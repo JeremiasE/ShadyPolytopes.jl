{
 "cells": [
  {
   "cell_type": "code",
   "execution_count": 1,
   "id": "dafe46e8-2587-4310-9a6b-6ed438dd6c2e",
   "metadata": {},
   "outputs": [
    {
     "name": "stdout",
     "output_type": "stream",
     "text": [
      "polymake version 4.13\n",
      "Copyright (c) 1997-2024\n",
      "Ewgenij Gawrilow, Michael Joswig, and the polymake team\n",
      "Technische Universität Berlin, Germany\n",
      "https://polymake.org\n",
      "\n",
      "This is free software licensed under GPL; see the source for copying conditions.\n",
      "There is NO warranty; not even for MERCHANTABILITY or FITNESS FOR A PARTICULAR PURPOSE.\n",
      "\n"
     ]
    }
   ],
   "source": [
    "using LinearAlgebra\n",
    "using ShadyPolytopes\n",
    "using Polymake\n",
    "using Combinatorics"
   ]
  },
  {
   "cell_type": "code",
   "execution_count": 2,
   "id": "3a6c2978-6a92-4dfd-a4d5-294d6aec3a35",
   "metadata": {},
   "outputs": [
    {
     "data": {
      "text/plain": [
       "is_intersected"
      ]
     },
     "execution_count": 2,
     "metadata": {},
     "output_type": "execute_result"
    }
   ],
   "source": [
    "\"\"\"\n",
    "\tis_intersected(signature_vector, facet)\n",
    "\n",
    "Checks if the relative interior of the facet (given by an index vector)\n",
    "intersects a linear subspace given by its signature vector.\n",
    "\"\"\"\n",
    "function is_intersected(signature_vector, facet)\n",
    "    signs = signature_vector[facet]\n",
    "    return minimum(signs)<0 && maximum(signs)>0\n",
    "end"
   ]
  },
  {
   "cell_type": "code",
   "execution_count": 3,
   "id": "9558eb46-1c1e-4cfb-b095-74babfefbee8",
   "metadata": {},
   "outputs": [
    {
     "data": {
      "text/plain": [
       "intersection_vector"
      ]
     },
     "execution_count": 3,
     "metadata": {},
     "output_type": "execute_result"
    }
   ],
   "source": [
    "\"\"\"\n",
    "\tfunction intersection_vector(sv, facets)\n",
    "\n",
    "Takes a vector of all possible signature vectors\n",
    "for linear subspaces\n",
    "and a vector of factes (represented by an index vector)\n",
    "\n",
    "Returns a vector of vectors containing the following:\n",
    "For each signature vector we calculate which\n",
    "facets are intersected in their interior.\n",
    "\"\"\"\n",
    "function intersection_vector(sv, facets)\n",
    "    [\n",
    "\t\t[is_intersected(signature_vector,facet) \n",
    "\t\t \tfor facet in facets] \n",
    "\t\tfor signature_vector in sv\n",
    "\t]\n",
    "end"
   ]
  },
  {
   "cell_type": "code",
   "execution_count": 4,
   "id": "a5e47aab-c91f-41af-af89-ad2e7e9478af",
   "metadata": {},
   "outputs": [
    {
     "data": {
      "text/plain": [
       "ray_signature"
      ]
     },
     "execution_count": 4,
     "metadata": {},
     "output_type": "execute_result"
    }
   ],
   "source": [
    "\"\"\"\n",
    "\tray_signature(ray, hyperplanes)\n",
    "\n",
    "Takes a `ray` and a vector of hyperplane normals \n",
    "and calculates for each hyperplane, which side the ray is on.\n",
    "\n",
    "\"\"\"\n",
    "function ray_signature(ray, hyperplanes)\n",
    "    [sign(dot(h, ray)) for h in eachrow(hyperplanes)]\n",
    "end"
   ]
  },
  {
   "cell_type": "code",
   "execution_count": 5,
   "id": "5d3fe778-4e42-4cbd-83ff-225bfc3fe388",
   "metadata": {},
   "outputs": [
    {
     "data": {
      "text/plain": [
       "signature_vector"
      ]
     },
     "execution_count": 5,
     "metadata": {},
     "output_type": "execute_result"
    }
   ],
   "source": [
    "\"\"\"\n",
    "\tsignature_vector(W, V)\n",
    "\n",
    "Takes a vector of vectors W,\n",
    "and a vector of vectors V,\n",
    "then determines all possible \n",
    "positions of planes relative to W,\n",
    "and for each such position calculates the\n",
    "position of the vertices in V with respect to\n",
    "this \n",
    "Returns a vector of {-1,0,1} vectors.\n",
    "\"\"\"\n",
    "function signature_vector(W, V)\n",
    "\thyperplanes = hcat(W...)'\n",
    "    all_vertices= hcat(V...)'\n",
    "\tR = Vector{Int64}[]\n",
    "    # hyperplanes is an array whose rows are the hyperplane normals\n",
    "    HA = Polymake.fan.HyperplaneArrangement(HYPERPLANES = hyperplanes)\n",
    "    CD = HA.CHAMBER_DECOMPOSITION\n",
    "    RAYS = eachrow(convert(Array{Rational{Int64}},CD.RAYS))\n",
    "    for cone_array in CD.CONES\n",
    "        for row in eachrow(cone_array)\n",
    "            ray = sum(RAYS[findall(row)])\n",
    "            push!(R,ray_signature(ray,all_vertices))\n",
    "        end\n",
    "    end\n",
    "    return R\n",
    "end"
   ]
  },
  {
   "cell_type": "code",
   "execution_count": 6,
   "id": "4a62e7eb-f61d-438b-9970-3b702b7dccec",
   "metadata": {},
   "outputs": [
    {
     "data": {
      "text/plain": [
       "122-element Vector{Vector{Int64}}:\n",
       " [1, 0, 1, 0, -1, -1, -1, 0, -1, 0, 1, 1]\n",
       " [0, 0, 1, 1, -1, -1, 0, 0, -1, -1, 1, 1]\n",
       " [1, 1, 0, 0, -1, -1, -1, -1, 0, 0, 1, 1]\n",
       " [0, 1, 1, 1, -1, 0, 0, -1, -1, -1, 1, 0]\n",
       " [1, 1, 0, 1, -1, 0, -1, -1, 0, -1, 1, 0]\n",
       " [1, 1, -1, 0, -1, 0, -1, -1, 1, 0, 1, 0]\n",
       " [0, 1, 1, 1, 0, 1, 0, -1, -1, -1, 0, -1]\n",
       " [1, 1, 0, 1, 0, 1, -1, -1, 0, -1, 0, -1]\n",
       " [1, 1, -1, 0, 0, 1, -1, -1, 1, 0, 0, -1]\n",
       " [1, 0, 0, -1, -1, -1, -1, 0, 0, 1, 1, 1]\n",
       " [1, 0, -1, -1, 0, -1, -1, 0, 1, 1, 0, 1]\n",
       " [1, 1, -1, -1, 0, 0, -1, -1, 1, 1, 0, 0]\n",
       " [-1, 0, 1, 1, -1, 0, 1, 0, -1, -1, 1, 0]\n",
       " ⋮\n",
       " [-1, -1, -1, -1, 1, 1, 1, 1, 1, 1, -1, -1]\n",
       " [-1, -1, -1, -1, 1, -1, 1, 1, 1, 1, -1, 1]\n",
       " [1, -1, -1, -1, 1, 1, -1, 1, 1, 1, -1, -1]\n",
       " [-1, 1, -1, -1, 1, 1, 1, -1, 1, 1, -1, -1]\n",
       " [1, 1, -1, -1, 1, 1, -1, -1, 1, 1, -1, -1]\n",
       " [1, -1, -1, -1, 1, -1, -1, 1, 1, 1, -1, 1]\n",
       " [-1, -1, -1, -1, -1, -1, 1, 1, 1, 1, 1, 1]\n",
       " [1, -1, -1, -1, -1, -1, -1, 1, 1, 1, 1, 1]\n",
       " [1, 1, -1, -1, 1, -1, -1, -1, 1, 1, -1, 1]\n",
       " [1, 1, 1, 1, 1, 1, -1, -1, -1, -1, -1, -1]\n",
       " [1, 1, -1, 1, 1, 1, -1, -1, 1, -1, -1, -1]\n",
       " [1, 1, -1, -1, -1, 1, -1, -1, 1, 1, 1, -1]"
      ]
     },
     "execution_count": 6,
     "metadata": {},
     "output_type": "execute_result"
    }
   ],
   "source": [
    "Vprime = optimal_icosahedron.positive_vertices\n",
    "V = all_vertices(optimal_icosahedron)\n",
    "sig_vec = signature_vector(Vprime,V)"
   ]
  },
  {
   "cell_type": "code",
   "execution_count": 7,
   "id": "c65c3d5d-dc49-4d33-98f9-3e89ef79f25d",
   "metadata": {},
   "outputs": [
    {
     "data": {
      "text/plain": [
       "122-element Vector{Vector{Bool}}:\n",
       " [0, 0, 0, 0, 0, 0, 0, 1, 1, 1, 0, 0, 0, 1, 1, 1, 0, 0, 0, 0]\n",
       " [1, 0, 0, 0, 1, 0, 1, 0, 0, 0, 0, 1, 1, 0, 0, 0, 0, 0, 1, 0]\n",
       " [1, 0, 0, 0, 0, 0, 0, 0, 1, 1, 0, 0, 0, 0, 1, 1, 0, 0, 1, 0]\n",
       " [0, 0, 0, 0, 1, 0, 1, 0, 0, 0, 0, 1, 1, 0, 0, 0, 0, 0, 0, 0]\n",
       " [0, 0, 0, 0, 1, 0, 1, 1, 0, 0, 0, 1, 1, 1, 0, 0, 0, 0, 0, 0]\n",
       " [0, 1, 1, 1, 0, 0, 0, 0, 0, 0, 1, 0, 0, 0, 0, 0, 0, 1, 0, 1]\n",
       " [0, 1, 0, 0, 0, 0, 0, 0, 0, 1, 1, 0, 0, 0, 1, 0, 0, 0, 0, 0]\n",
       " [0, 0, 0, 0, 0, 0, 1, 1, 0, 0, 0, 0, 1, 1, 0, 0, 0, 0, 0, 0]\n",
       " [0, 0, 1, 1, 0, 0, 0, 0, 0, 0, 0, 0, 0, 0, 0, 0, 0, 1, 0, 1]\n",
       " [0, 0, 0, 0, 0, 0, 0, 0, 1, 1, 0, 0, 0, 0, 1, 1, 0, 0, 0, 0]\n",
       " [0, 1, 0, 0, 0, 0, 0, 0, 1, 1, 1, 0, 0, 0, 1, 1, 0, 0, 0, 0]\n",
       " [1, 0, 1, 1, 0, 0, 0, 0, 0, 0, 0, 0, 0, 0, 0, 0, 0, 1, 1, 1]\n",
       " [0, 0, 0, 0, 1, 1, 1, 0, 0, 0, 0, 1, 1, 0, 0, 0, 1, 0, 0, 0]\n",
       " ⋮\n",
       " [1, 0, 0, 0, 1, 0, 1, 1, 1, 1, 0, 1, 1, 1, 1, 1, 0, 0, 1, 0]\n",
       " [0, 1, 0, 0, 1, 0, 1, 1, 0, 1, 1, 1, 1, 1, 1, 0, 0, 0, 0, 0]\n",
       " [1, 0, 0, 0, 1, 1, 1, 0, 1, 0, 0, 1, 1, 0, 0, 1, 1, 0, 1, 0]\n",
       " [1, 0, 1, 1, 1, 1, 1, 1, 1, 1, 0, 1, 1, 1, 1, 1, 1, 1, 1, 1]\n",
       " [1, 0, 1, 1, 1, 1, 1, 0, 0, 0, 0, 1, 1, 0, 0, 0, 1, 1, 1, 1]\n",
       " [0, 1, 0, 0, 1, 1, 1, 0, 1, 1, 1, 1, 1, 0, 1, 1, 1, 0, 0, 0]\n",
       " [0, 1, 1, 0, 0, 1, 1, 1, 0, 1, 1, 0, 1, 1, 1, 0, 1, 1, 0, 0]\n",
       " [0, 1, 1, 0, 0, 1, 0, 0, 1, 1, 1, 0, 0, 0, 1, 1, 1, 1, 0, 0]\n",
       " [1, 1, 1, 1, 1, 1, 1, 0, 1, 1, 1, 1, 1, 0, 1, 1, 1, 1, 1, 1]\n",
       " [0, 1, 1, 0, 0, 1, 1, 1, 0, 1, 1, 0, 1, 1, 1, 0, 1, 1, 0, 0]\n",
       " [0, 0, 1, 1, 0, 1, 1, 1, 0, 0, 0, 0, 1, 1, 0, 0, 1, 1, 0, 1]\n",
       " [1, 1, 1, 1, 1, 0, 0, 0, 0, 0, 1, 1, 0, 0, 0, 0, 0, 1, 1, 1]"
      ]
     },
     "execution_count": 7,
     "metadata": {},
     "output_type": "execute_result"
    }
   ],
   "source": [
    "n = size(V)\n",
    "# polymake expects a 4xn matrix where each row contains \n",
    "# homogeneous coordinates of a vertex\n",
    "VM_hom = hcat(ones(eltype(V[1]), n), collect(hcat(V...)'))\n",
    "\t\n",
    "OI_polymake = Polymake.polytope.Polytope(VERTICES = VM_hom)\n",
    "facets = [findall(row) for row in eachrow(OI_polymake.VERTICES_IN_FACETS)]\n",
    "inters_vec = intersection_vector(sig_vec, facets)"
   ]
  },
  {
   "cell_type": "markdown",
   "id": "762df7b1-83da-47d8-8198-f0acc569b599",
   "metadata": {},
   "source": [
    "# Minimal number of intersections between a linear subspace and the relative interior of facets"
   ]
  },
  {
   "cell_type": "code",
   "execution_count": 8,
   "id": "957d4b5b-1825-4dfc-a1cd-d09be7ca00fb",
   "metadata": {},
   "outputs": [
    {
     "data": {
      "text/plain": [
       "4"
      ]
     },
     "execution_count": 8,
     "metadata": {},
     "output_type": "execute_result"
    }
   ],
   "source": [
    "minimum(count.(inters_vec))"
   ]
  },
  {
   "cell_type": "markdown",
   "id": "9e8ed35f-6e10-4851-86f0-1612a7a657a0",
   "metadata": {},
   "source": [
    "# Check that the normals are in general position"
   ]
  },
  {
   "cell_type": "code",
   "execution_count": 9,
   "id": "7e925e81-c381-4e8b-b944-efaf40c81f23",
   "metadata": {},
   "outputs": [
    {
     "data": {
      "text/plain": [
       "true"
      ]
     },
     "execution_count": 9,
     "metadata": {},
     "output_type": "execute_result"
    }
   ],
   "source": [
    "normals = [h for h in optimal_icosahedron.normals if dot(h,[1,1,1])>0]\n",
    "ranks = [rank(hcat(subset...)) for subset in combinations(normals, 3)]\n",
    "all(ranks.==3)"
   ]
  },
  {
   "cell_type": "code",
   "execution_count": null,
   "id": "8ff7d36b-65d6-4e8b-a394-011769fb6854",
   "metadata": {},
   "outputs": [],
   "source": []
  }
 ],
 "metadata": {
  "kernelspec": {
   "display_name": "Julia 1.11.4",
   "language": "julia",
   "name": "julia-1.11"
  },
  "language_info": {
   "file_extension": ".jl",
   "mimetype": "application/julia",
   "name": "julia",
   "version": "1.11.4"
  }
 },
 "nbformat": 4,
 "nbformat_minor": 5
}
